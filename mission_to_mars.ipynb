{
 "cells": [
  {
   "cell_type": "markdown",
   "metadata": {},
   "source": [
    "## Scrape Nasa Mars News Site"
   ]
  },
  {
   "cell_type": "code",
   "execution_count": 1,
   "metadata": {},
   "outputs": [],
   "source": [
    "#import dependencies \n",
    "from splinter import Browser\n",
    "from bs4 import BeautifulSoup as bs\n",
    "import time \n",
    "import pandas as pd\n",
    "import re\n",
    "import time"
   ]
  },
  {
   "cell_type": "code",
   "execution_count": 2,
   "metadata": {},
   "outputs": [],
   "source": [
    "def init_browser():\n",
    "    executable_path = {'executable_path': '/usr/local/bin/chromedriver'}\n",
    "    return Browser('chrome', **executable_path, headless=False)"
   ]
  },
  {
   "cell_type": "code",
   "execution_count": 3,
   "metadata": {},
   "outputs": [],
   "source": [
    "def scrape_info():\n",
    "    browser = init_browser()\n",
    "    \n",
    "    url = 'https://mars.nasa.gov/news/'\n",
    "    jpl_url = 'https://www.jpl.nasa.gov/spaceimages/?search=&category=Mars'\n",
    "\n",
    "    browser.visit(url)\n",
    "    \n",
    "    time.sleep(1)\n",
    "    \n",
    "    #scrape page into Soup \n",
    "    html = browser.html\n",
    "    soup = bs(html, 'html.parser')\n",
    "    \n",
    "    #get the news title \n",
    "    news_title = soup.find('div', class_='list_text').a.text\n",
    "    \n",
    "    #get the news paragraphs\n",
    "    news_p = soup.find('div', class_='article_teaser_body').text\n",
    "        \n",
    "    #visit jpl url \n",
    "    browser.visit(jpl_url)\n",
    "    html = browser.html\n",
    "    soup = bs(html, 'html.parser')\n",
    "    \n",
    "    #get latest image - hi-res \n",
    "    jpl_url = 'https://www.jpl.nasa.gov/spaceimages/?search=&category=Mars'\n",
    "    browser.visit(jpl_url)\n",
    "\n",
    "    browser.click_link_by_partial_text('FULL IMAGE')\n",
    "    browser.click_link_by_partial_text('more info')\n",
    "\n",
    "    html = browser.html\n",
    "    soup = bs(html, 'html.parser')\n",
    "\n",
    "    image = soup.find('figure', class_='lede')\n",
    "    image_url = image.a['href']\n",
    "    featured_image_url = f'https://jpl.nasa.gov{image_url}'\n",
    "    \n",
    "    #get latest tweet \n",
    "    twitter_url = 'https://twitter.com/marswxreport?lang=en'\n",
    "    browser.visit(twitter_url)\n",
    "\n",
    "    time.sleep(2)\n",
    "\n",
    "    pattern = re.compile('InSight')\n",
    "\n",
    "    html = browser.html\n",
    "    soup = bs(html, 'html.parser')\n",
    "\n",
    "    mars_weather = soup.find('span', text=pattern).text\n",
    "    \n",
    "    #table \n",
    "    facts_url = 'https://space-facts.com/mars/'\n",
    "    table = pd.read_html(facts_url)\n",
    "    df = table[0]\n",
    "    df.columns = ['Description','Values']\n",
    "    df.set_index('Description', inplace=True)\n",
    "    df_html = df.to_html()\n",
    "    \n",
    "    #Mars Hemispheres \n",
    "    hemisphere_image_url = []\n",
    "    hemisphere_url = 'https://astrogeology.usgs.gov/search/results?q=hemisphere+enhanced&k1=target&v1=Mars'\n",
    "    browser.visit(hemisphere_url)\n",
    "\n",
    "    html = browser.html\n",
    "    soup = bs(html, 'html.parser')\n",
    "\n",
    "    #get the title \n",
    "    info = soup.find_all('div', class_='item')\n",
    "\n",
    "    for hemisphere in info: \n",
    "        hemisphere_dict = {}\n",
    "        hemisphere_dict['title'] = hemisphere.find('h3').text\n",
    "        hemisphere_image_url.append(hemisphere_dict)\n",
    "        browser.click_link_by_partial_text(hemisphere.find('h3').text)\n",
    "        html = browser.html\n",
    "        soup = bs(html, 'html.parser')\n",
    "        url = soup.find('img', class_='wide-image')['src']\n",
    "        hemisphere_dict['image_url'] = f'https://astrogeology.usgs.gov{url}'\n",
    "        browser.visit(hemisphere_url)\n",
    "\n",
    "        \n",
    "    #store data in a dictionary\n",
    "    mars_data= {\n",
    "        'news_title': news_title,\n",
    "        'news_paragraph': news_p,\n",
    "        'featured_image_url': featured_image_url,\n",
    "        'mars_weather': mars_weather,\n",
    "        'mars_table': df_html,\n",
    "        'mars_hemispheres': hemisphere_image_url\n",
    "    }\n",
    "        \n",
    "        \n",
    "    #close the browser\n",
    "    browser.quit()\n",
    "    \n",
    "    return mars_data "
   ]
  },
  {
   "cell_type": "code",
   "execution_count": 5,
   "metadata": {
    "scrolled": false
   },
   "outputs": [
    {
     "data": {
      "text/plain": [
       "{'news_title': \"NASA's Perseverance Rover Will Look at Mars Through These 'Eyes'\",\n",
       " 'news_paragraph': 'A pair of zoomable cameras will help scientists and rover drivers with high-resolution color images.',\n",
       " 'featured_image_url': 'https://jpl.nasa.gov/spaceimages/images/largesize/PIA14762_hires.jpg',\n",
       " 'mars_weather': 'InSight sol 508 (2020-05-01) low -92.2ºC (-134.0ºF) high -2.4ºC (27.7ºF)\\nwinds from the SW at 5.1 m/s (11.3 mph) gusting to 15.8 m/s (35.3 mph)\\npressure at 6.80 hPa',\n",
       " 'mars_table': '<table border=\"1\" class=\"dataframe\">\\n  <thead>\\n    <tr style=\"text-align: right;\">\\n      <th></th>\\n      <th>Values</th>\\n    </tr>\\n    <tr>\\n      <th>Description</th>\\n      <th></th>\\n    </tr>\\n  </thead>\\n  <tbody>\\n    <tr>\\n      <th>Equatorial Diameter:</th>\\n      <td>6,792 km</td>\\n    </tr>\\n    <tr>\\n      <th>Polar Diameter:</th>\\n      <td>6,752 km</td>\\n    </tr>\\n    <tr>\\n      <th>Mass:</th>\\n      <td>6.39 × 10^23 kg (0.11 Earths)</td>\\n    </tr>\\n    <tr>\\n      <th>Moons:</th>\\n      <td>2 (Phobos &amp; Deimos)</td>\\n    </tr>\\n    <tr>\\n      <th>Orbit Distance:</th>\\n      <td>227,943,824 km (1.38 AU)</td>\\n    </tr>\\n    <tr>\\n      <th>Orbit Period:</th>\\n      <td>687 days (1.9 years)</td>\\n    </tr>\\n    <tr>\\n      <th>Surface Temperature:</th>\\n      <td>-87 to -5 °C</td>\\n    </tr>\\n    <tr>\\n      <th>First Record:</th>\\n      <td>2nd millennium BC</td>\\n    </tr>\\n    <tr>\\n      <th>Recorded By:</th>\\n      <td>Egyptian astronomers</td>\\n    </tr>\\n  </tbody>\\n</table>',\n",
       " 'mars_hemispheres': [{'title': 'Cerberus Hemisphere Enhanced',\n",
       "   'image_url': 'https://astrogeology.usgs.gov/cache/images/cfa62af2557222a02478f1fcd781d445_cerberus_enhanced.tif_full.jpg'},\n",
       "  {'title': 'Schiaparelli Hemisphere Enhanced',\n",
       "   'image_url': 'https://astrogeology.usgs.gov/cache/images/3cdd1cbf5e0813bba925c9030d13b62e_schiaparelli_enhanced.tif_full.jpg'},\n",
       "  {'title': 'Syrtis Major Hemisphere Enhanced',\n",
       "   'image_url': 'https://astrogeology.usgs.gov/cache/images/ae209b4e408bb6c3e67b6af38168cf28_syrtis_major_enhanced.tif_full.jpg'},\n",
       "  {'title': 'Valles Marineris Hemisphere Enhanced',\n",
       "   'image_url': 'https://astrogeology.usgs.gov/cache/images/7cf2da4bf549ed01c17f206327be4db7_valles_marineris_enhanced.tif_full.jpg'}]}"
      ]
     },
     "execution_count": 5,
     "metadata": {},
     "output_type": "execute_result"
    }
   ],
   "source": [
    "scrape_info()"
   ]
  },
  {
   "cell_type": "code",
   "execution_count": null,
   "metadata": {},
   "outputs": [],
   "source": []
  }
 ],
 "metadata": {
  "kernelspec": {
   "display_name": "Python 3",
   "language": "python",
   "name": "python3"
  },
  "language_info": {
   "codemirror_mode": {
    "name": "ipython",
    "version": 3
   },
   "file_extension": ".py",
   "mimetype": "text/x-python",
   "name": "python",
   "nbconvert_exporter": "python",
   "pygments_lexer": "ipython3",
   "version": "3.7.4"
  }
 },
 "nbformat": 4,
 "nbformat_minor": 2
}
